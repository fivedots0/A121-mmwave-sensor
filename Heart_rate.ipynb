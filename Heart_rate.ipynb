{
  "nbformat": 4,
  "nbformat_minor": 0,
  "metadata": {
    "colab": {
      "provenance": []
    },
    "kernelspec": {
      "name": "python3",
      "display_name": "Python 3"
    },
    "language_info": {
      "name": "python"
    }
  },
  "cells": [
    {
      "cell_type": "code",
      "execution_count": null,
      "metadata": {
        "id": "1cWuJ8KYa-rr"
      },
      "outputs": [],
      "source": [
        "# import denpendancies add code here when needed\n",
        "import h5py\n",
        "import numpy\n",
        "import matplotlib.pyplot as plt\n",
        "from scipy import signal\n",
        "from scipy import fft\n",
        "from scipy.fftpack import fftfreq\n",
        "from scipy.signal import bessel\n",
        "from scipy.signal import filtfilt\n",
        "from scipy.signal import find_peaks\n",
        "#python -m acconeer.exptool.app"
      ]
    },
    {
      "cell_type": "code",
      "source": [
        "#step1 find largest variance from all depths\n",
        "#todo a) find variance in phase or b) variance in raw data individually?\n",
        "\n",
        "def largest_var(filename):\n",
        "\n",
        "  #open file\n",
        "  with h5py.File(filename, \"r\") as f:\n",
        "    data = list(f['session']['group_0']['entry_0']['result']['frame'])\n",
        "    data1 = data[0] # frame\n",
        "    data2 = data1[0] # dk\n",
        "    data3 = data2[0] # depth\n",
        "    data4 = data3[0] # real or imaginary\n",
        "    '''\n",
        "    print(len(data)) # no of frames\n",
        "    print(len(data1)) # dk what this is\n",
        "    print(len(data2)) #no of depth\n",
        "    print(data3) # data 1 both real and imaginary\n",
        "    print(data4) # data real or imaginary\n",
        "    '''\n",
        "\n",
        "    # method a calculate individual variance and find largest one\n",
        "    i = 0\n",
        "    j = 0\n",
        "    depth = 0\n",
        "    abc = 0 # tmp var storage\n",
        "    for i in range(len(data2)): # depths values\n",
        "      tmp = [] # array to hold data values refreshes every depth\n",
        "      for j in range(len(data)): # in range frames\n",
        "        # get real values and calculate var\n",
        "        tmp.append(data[j][0][i][0]) # append real value of depth\n",
        "        # repeat til all frames have been appended\n",
        "      #print(tmp)\n",
        "      var = numpy.var(tmp) # cal variance of all frames\n",
        "      #print(var)\n",
        "      if(var>abc): # if largest variance\n",
        "        abc = var # store the var\n",
        "        depth = i #keep track of the depth index\n",
        "    return depth # return the depth with largest var\n",
        "\n",
        "\n",
        "#hr = largest_var('hold_breath28.h5')\n",
        "#print(hr)\n",
        "\n",
        "\n",
        ""
      ],
      "metadata": {
        "id": "JZkQoyb_bE-C"
      },
      "execution_count": null,
      "outputs": []
    },
    {
      "cell_type": "code",
      "source": [
        "#step1 find largest variance from all depths\n",
        "#todo a) find variance in phase or b) variance in raw data individually?\n",
        "\n",
        "def largest_var2(filename):\n",
        "\n",
        "  #open file\n",
        "  with h5py.File(filename, \"r\") as f:\n",
        "    data = list(f['session']['group_0']['entry_0']['result']['frame'])\n",
        "    data1 = data[0] # frame\n",
        "    data2 = data1[0] # dk\n",
        "    data3 = data2[0] # depth\n",
        "    data4 = data3[0] # real or imaginary\n",
        "    '''\n",
        "    print(len(data)) # no of frames\n",
        "    print(len(data1)) # dk what this is\n",
        "    print(len(data2)) #no of depth\n",
        "    print(data3) # data 1 both real and imaginary\n",
        "    print(data4) # data real or imaginary\n",
        "    '''\n",
        "\n",
        "    # method a calculate individual variance and find largest one\n",
        "    i = 0\n",
        "    j = 0\n",
        "    depth = 0\n",
        "    abc = 0 # tmp var storage\n",
        "    for i in range(len(data2)): # depths values\n",
        "      tmp = [] # array to hold data values refreshes every depth\n",
        "      for j in range(len(data)): # in range frames\n",
        "        # get real values and calculate var\n",
        "        tmp.append(data[j][0][i][1]) # append real value of depth\n",
        "        # repeat til all frames have been appended\n",
        "      #print(tmp)\n",
        "      var = numpy.var(tmp) # cal variance of all frames\n",
        "      #print(var)\n",
        "      if(var>abc): # if largest variance\n",
        "        abc = var # store the var\n",
        "        depth = i #keep track of the depth index\n",
        "    return depth # return the depth with largest var\n",
        "\n",
        "\n",
        "#hr = largest_var2('hold_breath28.h5')\n",
        "#print(hr)"
      ],
      "metadata": {
        "id": "2Ak1FoFzgSGT"
      },
      "execution_count": null,
      "outputs": []
    },
    {
      "cell_type": "code",
      "source": [
        "#step1 find largest variance from all depths\n",
        "#todo a) find variance in phase or b) variance in raw data individually?\n",
        "\n",
        "def largest_var3(filename):\n",
        "\n",
        "  #find phase then var\n",
        "  #open file\n",
        "  with h5py.File(filename, \"r\") as f:\n",
        "    data = list(f['session']['group_0']['entry_0']['result']['frame'])\n",
        "    data1 = data[0] # frame\n",
        "    data2 = data1[0] # dk\n",
        "    data3 = data2[0] # depth\n",
        "    data4 = data3[0] # real or imaginary\n",
        "    '''\n",
        "    print(len(data)) # no of frames\n",
        "    print(len(data1)) # dk what this is\n",
        "    print(len(data2)) #no of depth\n",
        "    print(data3) # data 1 both real and imaginary\n",
        "    print(data4) # data real or imaginary\n",
        "    '''\n",
        "\n",
        "    # method a calculate individual variance and find largest one\n",
        "    i = 0\n",
        "    j = 0\n",
        "    depth = 0\n",
        "    abc = 0 # tmp var storage\n",
        "    for i in range(len(data2)): # depths values\n",
        "      tmp = [] # array to hold data values refreshes every depth\n",
        "      for j in range(len(data)): # in range frames\n",
        "        # get real values and calculate var\n",
        "        phase_data = data[j][0][i] # get data\n",
        "        div = phase_data[1]/phase_data[0] # img/real\n",
        "        angle = numpy.arctan(div) #get angle\n",
        "        tmp.append(angle) # append the phase\n",
        "        # repeat til all frames have been appended\n",
        "\n",
        "      #print(tmp)\n",
        "      var = numpy.var(tmp) # cal variance of all frames phase\n",
        "      #print(var)\n",
        "      if(var>abc): # if largest variance\n",
        "        abc = var # store the var\n",
        "        depth = i #keep track of the depth index\n",
        "    return depth # return the depth with largest var\n",
        "\n",
        "\n",
        "#hr = largest_var3('test4.h5')\n",
        "#print(hr)\n",
        "\n",
        "# use option 1 or 2 3 can be wrong due to the zero div warning"
      ],
      "metadata": {
        "id": "8hoP02Zsgr6b"
      },
      "execution_count": null,
      "outputs": []
    },
    {
      "cell_type": "code",
      "source": [
        "# step2 fix timestamp using polyfit function\n",
        "# idk what is going on here\n",
        "def timestamp(filename):\n",
        "  #open file\n",
        "  with h5py.File(filename, \"r\") as f:\n",
        "    data = list(f['timestamp'][()])\n",
        "    print((data))\n",
        "    print(numpy.sum(data))\n",
        "\n",
        "#timestamp('hold_breath28.h5')"
      ],
      "metadata": {
        "id": "vhRZDZPQhk_d"
      },
      "execution_count": null,
      "outputs": []
    },
    {
      "cell_type": "code",
      "source": [
        "#unwrap the signal phase\n",
        "def unwrap(filename):\n",
        "  #open file\n",
        "  with h5py.File(filename, \"r\") as f:\n",
        "    data = list(f['session']['group_0']['entry_0']['result']['frame'])\n",
        "    data1 = data[0] # frame\n",
        "    data2 = data1[0] # dk\n",
        "    data3 = data2[0] # depth\n",
        "    data4 = data3[0] # real or imaginary\n",
        "\n",
        "    '''\n",
        "    print(len(data)) # no of frames\n",
        "    print(len(data1)) # dk what this is\n",
        "    print(len(data2)) #no of depth\n",
        "    print(data3) # data 1 both real and imaginary\n",
        "    print(data4) # data real or imaginary\n",
        "    '''\n",
        "    index = largest_var2(filename)\n",
        "    phase = [] #store phase values here\n",
        "    duration = []#store frame value\n",
        "    time = 19.0 #s\n",
        "    frame = float(len(data))\n",
        "    i = 0\n",
        "\n",
        "    for i in range(len(data)):\n",
        "      tmp = data[i][0][index] # store real img in tmp\n",
        "      div = tmp[1]/tmp[0] # cal b/a\n",
        "      angle = numpy.arctan(div) # cal angle\n",
        "      phase.append(angle) # store it into the phase\n",
        "      duration.append(i*(time/frame)) # store frame index\n",
        "\n",
        "    #print the graph\n",
        "    '''\n",
        "    plt.plot(duration, phase)\n",
        "    plt.show()\n",
        "    '''\n",
        "    # this is doing nothing for some reason\n",
        "\n",
        "    unwrap_phase = numpy.unwrap(phase, period = 2) # todo fix this\n",
        "    norm = numpy.linalg.norm(unwrap_phase)\n",
        "    norm_phase = unwrap_phase/norm\n",
        "\n",
        "    '''\n",
        "    plt.plot(duration, norm_phase)\n",
        "    plt.show()\n",
        "    #print(phase)\n",
        "    '''\n",
        "\n",
        "    return norm_phase\n",
        "\n",
        "\n",
        "a = unwrap('tet1.h5')\n",
        "\n",
        "\n"
      ],
      "metadata": {
        "id": "MsF4lzYhiIPe"
      },
      "execution_count": null,
      "outputs": []
    },
    {
      "cell_type": "code",
      "source": [
        "#fft fftfreq find max amplitude error do later cant change much here so above\n",
        "def fft(filename):\n",
        "  unwrap_phase = unwrap(filename)\n",
        "  #tmp = numpy.array(unwrap_phase)\n",
        "  fft = numpy.fft.rfft(unwrap_phase)\n",
        "  #print(fft)\n",
        "  return fft\n",
        "#a = fft('hold_breath28.h5')"
      ],
      "metadata": {
        "id": "plp1pDy2tM4M"
      },
      "execution_count": null,
      "outputs": []
    },
    {
      "cell_type": "code",
      "source": [
        "def fftfreq(filename):\n",
        "  unwrap_phase = unwrap(filename)\n",
        "  with h5py.File(filename, \"r\") as f:\n",
        "    data = list(f['session']['group_0']['entry_0']['result']['frame'])\n",
        "  n = len(data)\n",
        "  #print(len(data))\n",
        "  #timestep = 0.5 # just affect x axis not the issue cant change much here so above\n",
        "  freq = numpy.fft.rfftfreq(n, d=0.25)\n",
        "  #print(freq)\n",
        "  return freq\n",
        "#a = fftfreq('hold_breath28.h5')"
      ],
      "metadata": {
        "id": "EEk1CHkMxRmH"
      },
      "execution_count": null,
      "outputs": []
    },
    {
      "cell_type": "code",
      "source": [
        "def maxfreq(filename): # to do make this work\n",
        "  fft_phase = fft(filename)\n",
        "  fft_abs = list(numpy.absolute(fft_phase)) #amplitude\n",
        "  fft_freq = fftfreq(filename)        # frequency\n",
        "  #print(fft_abs)\n",
        "  #print(fft_freq) 227 480\n",
        "  '''\n",
        "  max_value = max(fft_abs)\n",
        "  index = fft_abs.index(max_value)\n",
        "  '''\n",
        "  #0.8 = i*2/len i = 0.8*len/2  maths\n",
        "  step_size = 2/len(fft_abs) #step size between frequency\n",
        "  inv = 1/step_size\n",
        "  lower = int(1.1*inv) #lower bound = 0.8Hz 1.1 60BPM\n",
        "  upper = int(1.6*inv) # upper = 1.6Hz 100BPM\n",
        "\n",
        "  tmp = 0\n",
        "  index = 0\n",
        "  max = 0\n",
        "  index = 0\n",
        "  while lower <upper:#find max amplitude index and frequency\n",
        "    tmp = fft_abs[lower]\n",
        "    if(tmp>max):\n",
        "      max = tmp\n",
        "      index = lower\n",
        "    lower+=1\n",
        "  '''\n",
        "  plt.plot(fft_freq,fft_abs )\n",
        "  plt.show()\n",
        "  '''\n",
        "\n",
        "  return index*2/len(fft_abs) #frequency at that index\n",
        "a = maxfreq('tet1.h5')\n"
      ],
      "metadata": {
        "id": "u8V131UYyCFC"
      },
      "execution_count": null,
      "outputs": []
    },
    {
      "cell_type": "code",
      "source": [
        "def filter(filename):\n",
        "  unwrap_phase = unwrap(filename)\n",
        "  freq = maxfreq(filename)\n",
        "  #print(freq)\n",
        "  frequ = freq + 0.5\n",
        "  freql = freq - 0.2\n",
        "  freq = [freql , frequ]\n",
        "\n",
        "  b,a = bessel(2,freq,'bandpass',analog=True) #bessel filter can try experimenting with others\n",
        "  filtered_phase = filtfilt(b,a,unwrap_phase,axis=0)\n",
        "  return filtered_phase\n",
        "#a = filter('hold_breath28.h5')"
      ],
      "metadata": {
        "id": "M3o3ACDszOGO"
      },
      "execution_count": null,
      "outputs": []
    },
    {
      "cell_type": "code",
      "source": [
        "def invert(filename):\n",
        "  with h5py.File(filename, \"r\") as f:\n",
        "    data = list(f['session']['group_0']['entry_0']['result']['frame'])\n",
        "  freq = maxfreq(filename)\n",
        "  filtered_phase = filter(filename)\n",
        "  tmp = []\n",
        "  kk = 0\n",
        "  while(kk < len(data)):\n",
        "    tmp.append(filtered_phase[kk].astype(int))\n",
        "    kk += 1\n",
        "  inverted_phase = numpy.invert(tmp) #d = 1 cant set as 0.5\n",
        "  peaks =  find_peaks(filtered_phase,distance=1)\n",
        "  rate = 48*freq/0.8 # estimate rate\n",
        "  print(\"Heart rate estimate: \"+str(rate))\n",
        "  print(\"Heart rate peak_find: \" + str((len(peaks[0])/2)))\n",
        "  return rate\n",
        "#a = invert('hold_breath30.h5')"
      ],
      "metadata": {
        "id": "f4NjWiXf2RFN"
      },
      "execution_count": null,
      "outputs": []
    },
    {
      "cell_type": "code",
      "source": [
        "\n",
        "'''\n",
        "test = []\n",
        "error = 0\n",
        "j = 14\n",
        "while j < 36:\n",
        "  test.append(\"trail\" + str(j)+\".h5\")\n",
        "  j += 1\n",
        "for i in range(len(test)):\n",
        "  print(\"test\" + str(i))\n",
        "  r = invert(test[i])\n",
        "  if r>95 or r<60:\n",
        "    error +=1\n",
        "acc = (len(test)-error)/(len(test))\n",
        "acc = acc*100\n",
        "print(\"Accuracy: \" + str(acc))\n",
        "'''\n",
        "\n",
        "a = invert('tet6.h5')\n"
      ],
      "metadata": {
        "colab": {
          "base_uri": "https://localhost:8080/"
        },
        "id": "VhaIfdSC_IVv",
        "outputId": "223513c1-7b9a-4cec-bdc2-929935f8a28e"
      },
      "execution_count": null,
      "outputs": [
        {
          "output_type": "stream",
          "name": "stdout",
          "text": [
            "Heart rate estimate: 72.92153589315525\n"
          ]
        }
      ]
    }
  ]
}